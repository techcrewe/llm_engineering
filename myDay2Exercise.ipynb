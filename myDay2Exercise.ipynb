{
 "cells": [
  {
   "cell_type": "code",
   "execution_count": 3,
   "id": "7be14638-3db2-48b2-ac25-5747d52bb7d5",
   "metadata": {},
   "outputs": [
    {
     "name": "stdout",
     "output_type": "stream",
     "text": [
      "NAME                    ID              SIZE      MODIFIED       \n",
      "llama3.2:latest         a80c4f17acd5    2.0 GB    47 seconds ago    \n",
      "deepseek-r1:7b          0a8c26691023    4.7 GB    2 months ago      \n",
      "codellama:latest        8fdf8f752f6e    3.8 GB    4 months ago      \n",
      "qwen2.5-coder:latest    2b0496514337    4.7 GB    4 months ago      \n"
     ]
    }
   ],
   "source": [
    "!ollama list"
   ]
  },
  {
   "cell_type": "code",
   "execution_count": 23,
   "id": "2dac502d-2326-44e8-a087-f3389c9492dc",
   "metadata": {},
   "outputs": [],
   "source": [
    "# imports\n",
    "\n",
    "import requests\n",
    "from bs4 import BeautifulSoup\n",
    "from IPython.display import Markdown, display"
   ]
  },
  {
   "cell_type": "code",
   "execution_count": 24,
   "id": "04c55361-7a62-4503-bfc2-bf4a0ee42c07",
   "metadata": {},
   "outputs": [],
   "source": [
    "OLLAMA_API = \"http://localhost:11434/api/chat\"\n",
    "HEADERS = {\"Content-Type\": \"application/json\"}\n",
    "MODEL = \"llama3.2\""
   ]
  },
  {
   "cell_type": "code",
   "execution_count": 25,
   "id": "8fa1f22e-63f5-4f3b-9ec9-779b9fd8a4e5",
   "metadata": {},
   "outputs": [],
   "source": [
    "# A class to represent a Webpage\n",
    "# If you're not familiar with Classes, check out the \"Intermediate Python\" notebook\n",
    "\n",
    "# Some websites need you to use proper headers when fetching them:\n",
    "headers = {\n",
    " \"User-Agent\": \"Mozilla/5.0 (Windows NT 10.0; Win64; x64) AppleWebKit/537.36 (KHTML, like Gecko) Chrome/117.0.0.0 Safari/537.36\"\n",
    "}\n",
    "\n",
    "class Website:\n",
    "\n",
    "    def __init__(self, url):\n",
    "        \"\"\"\n",
    "        Create this Website object from the given url using the BeautifulSoup library\n",
    "        \"\"\"\n",
    "        self.url = url\n",
    "        response = requests.get(url, headers=headers)\n",
    "        soup = BeautifulSoup(response.content, 'html.parser')\n",
    "        self.title = soup.title.string if soup.title else \"No title found\"\n",
    "        for irrelevant in soup.body([\"script\", \"style\", \"img\", \"input\"]):\n",
    "            irrelevant.decompose()\n",
    "        self.text = soup.body.get_text(separator=\"\\n\", strip=True)"
   ]
  },
  {
   "cell_type": "code",
   "execution_count": 26,
   "id": "2ebb0c66-8784-46f7-908a-5be19dd3bc5a",
   "metadata": {},
   "outputs": [],
   "source": [
    "\n",
    "system_prompt = \"You are an assistant that analyzes the contents of a website \\\n",
    "and provides a short summary, ignoring text that might be navigation related. \\\n",
    "Respond in markdown.\""
   ]
  },
  {
   "cell_type": "code",
   "execution_count": 27,
   "id": "435d9781-f1b9-472d-b237-78022ab7d7ef",
   "metadata": {},
   "outputs": [],
   "source": [
    "def user_prompt_for(website):\n",
    "    user_prompt = f\"You are looking at a website titled {website.title}\"\n",
    "    user_prompt += \"\\nThe contents of this website is as follows; \\\n",
    "please provide a short summary of this website in markdown. \\\n",
    "If it includes news or announcements, then summarize these too.\\n\\n\"\n",
    "    user_prompt += website.text\n",
    "    return user_prompt"
   ]
  },
  {
   "cell_type": "code",
   "execution_count": 29,
   "id": "ccf1ac2d-c554-4df6-a544-1defdc9a9397",
   "metadata": {},
   "outputs": [],
   "source": [
    "# payload = {\n",
    "#     \"model\": MODEL,\n",
    "#     \"messages\": messages,\n",
    "#     \"stream\": False\n",
    "# }"
   ]
  },
  {
   "cell_type": "code",
   "execution_count": 37,
   "id": "150701ca-4c19-45ff-88a3-e2c3b8ac3d0d",
   "metadata": {},
   "outputs": [],
   "source": [
    "import ollama\n",
    "\n",
    "def summarise(url):\n",
    "    website = Website(url)\n",
    "    response = ollama.chat(model=MODEL, messages=messages_for(website))\n",
    "    return(response['message']['content'])"
   ]
  },
  {
   "cell_type": "code",
   "execution_count": 38,
   "id": "e4499bda-05f6-4a0a-a5f6-23ec62a9abd1",
   "metadata": {},
   "outputs": [
    {
     "data": {
      "text/plain": [
       "'# Website Summary\\n### Home Page\\n\\n* The website belongs to Edward Donner, a co-founder and CTO of Nebula.io.\\n* He shares his passion for writing code, experimenting with LLMs, and DJing.\\n* Nebula.io applies AI to help people discover their potential, using proprietary LLMs in talent management.\\n\\n### News and Announcements\\n\\n* **LLM Workshop – Hands-on with Agents** (January 23, 2025): A workshop where attendees can engage with agents.\\n* **Welcome, SuperDataScientists!** (November 13, 2024): An announcement for the community.\\n* **Mastering AI and LLM Engineering – Resources** (October 16, 2024): Resources for learning about mastering AI and LLM engineering.\\n* **From Software Engineer to AI Data Scientist – resources** (December 21, 2024): Resources to help professionals transition to AI data science.\\n\\n### General Information\\n\\n* Connect Four: A section that appears to be a game or puzzle, possibly related to LLMs.\\n* Outsmart: An arena where LLMs engage in a battle of diplomacy and deviousness.\\n* About: Provides more information about Edward Donner and Nebula.io.'"
      ]
     },
     "execution_count": 38,
     "metadata": {},
     "output_type": "execute_result"
    }
   ],
   "source": [
    "summarise(\"https://edwarddonner.com\")"
   ]
  },
  {
   "cell_type": "code",
   "execution_count": 39,
   "id": "c5664fec-35a6-4fc9-b4af-4774bfbbb8cb",
   "metadata": {},
   "outputs": [],
   "source": [
    "def display_summary(url):\n",
    "    summary = summarise(url)\n",
    "    display(Markdown(summary))"
   ]
  },
  {
   "cell_type": "code",
   "execution_count": 40,
   "id": "a6d32b3b-97f9-476c-9044-f9e209138d68",
   "metadata": {},
   "outputs": [
    {
     "data": {
      "text/markdown": [
       "### Summary of Edward Donner's Website\n",
       "\n",
       "#### About the Founder\n",
       "Ed is a writer, DJ, and amateur electronic music producer. He is the co-founder and CTO of Nebula.io, an AI startup that applies machine learning to help people discover their potential.\n",
       "\n",
       "#### Company Overview\n",
       "Nebula.io develops proprietary LLMs for talent matching and has patented its matching model. The platform has received award-winning recognition and press coverage.\n",
       "\n",
       "#### News and Announcements\n",
       "\n",
       "* **December 21, 2024**: Announcement of an upcoming LLM Workshop – Hands-on with Agents – resources.\n",
       "* **November 13, 2024**: Welcome message for SuperDataScientists!\n",
       "* **October 16, 2024**: Resources available on mastering AI and LLM Engineering.\n",
       "* **January 23, 2025**: Upcoming event announcement (no details provided).\n",
       "\n",
       "#### Contact Information\n",
       "Reach out to Ed at [ed@edwarddonner.com](mailto:ed@edwarddonner.com) or follow him on social media:\n",
       "\n",
       "* LinkedIn\n",
       "* Twitter\n",
       "* Facebook"
      ],
      "text/plain": [
       "<IPython.core.display.Markdown object>"
      ]
     },
     "metadata": {},
     "output_type": "display_data"
    }
   ],
   "source": [
    "display_summary(\"https://edwarddonner.com\")"
   ]
  },
  {
   "cell_type": "code",
   "execution_count": null,
   "id": "3291f3f2-5609-427f-95e3-10197e37f187",
   "metadata": {},
   "outputs": [],
   "source": [
    "import ollama\n",
    "\n",
    "response = ollama.chat(model=MODEL, messages=messages)\n",
    "print(response['message']['content'])"
   ]
  }
 ],
 "metadata": {
  "kernelspec": {
   "display_name": "Python 3 (ipykernel)",
   "language": "python",
   "name": "python3"
  },
  "language_info": {
   "codemirror_mode": {
    "name": "ipython",
    "version": 3
   },
   "file_extension": ".py",
   "mimetype": "text/x-python",
   "name": "python",
   "nbconvert_exporter": "python",
   "pygments_lexer": "ipython3",
   "version": "3.11.3"
  }
 },
 "nbformat": 4,
 "nbformat_minor": 5
}
